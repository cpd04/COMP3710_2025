{
 "cells": [
  {
   "cell_type": "markdown",
   "id": "d70b8d3c",
   "metadata": {},
   "source": [
    "# Task 4.1 - Variational Auto-Encoder"
   ]
  },
  {
   "cell_type": "markdown",
   "id": "6c62eb06",
   "metadata": {},
   "source": [
    "The first part of the task requires the construction of a Variational Auto-Encoder (VAE) for magnetic resonance (MR) images of the brain via the Preprocessed OASIS Dataset. The OASIS dataset was retrieved from /home/groups/comp3710/ directory on the Rangpur cluster."
   ]
  },
  {
   "cell_type": "markdown",
   "id": "a6a5d938",
   "metadata": {},
   "source": [
    "Full marks for this section require the training of the model on the dataset and the visualisation of the resulting manifold output from the VAE. Visualisation can be done using sampling methods to create a 2D image, or using a dimensionality reduction technique such as a UMAP."
   ]
  },
  {
   "cell_type": "code",
   "execution_count": null,
   "id": "966b92f2",
   "metadata": {},
   "outputs": [],
   "source": [
    "# Code block"
   ]
  }
 ],
 "metadata": {
  "kernelspec": {
   "display_name": "Python 3",
   "language": "python",
   "name": "python3"
  },
  "language_info": {
   "name": "python",
   "version": "3.11.9"
  }
 },
 "nbformat": 4,
 "nbformat_minor": 5
}
